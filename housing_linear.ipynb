{
  "cells": [
    {
      "cell_type": "markdown",
      "metadata": {
        "id": "view-in-github",
        "colab_type": "text"
      },
      "source": [
        "<a href=\"https://colab.research.google.com/github/Kavya-sri-05/genai/blob/main/housing_linear.ipynb\" target=\"_parent\"><img src=\"https://colab.research.google.com/assets/colab-badge.svg\" alt=\"Open In Colab\"/></a>"
      ]
    },
    {
      "cell_type": "code",
      "execution_count": 16,
      "metadata": {
        "colab": {
          "base_uri": "https://localhost:8080/"
        },
        "id": "rfnKFr42y-sF",
        "outputId": "8f2262ca-08b2-4dec-c49f-ca38d33f449b"
      },
      "outputs": [
        {
          "output_type": "stream",
          "name": "stdout",
          "text": [
            "📉 Mean Squared Error: 900000000.0000035\n",
            "Enter area in square feet: 150\n",
            "Enter number of bedrooms: 2\n",
            "Enter age of house (in years): 12\n",
            "🏠 Predicted Price: $124,000.00\n"
          ]
        },
        {
          "output_type": "stream",
          "name": "stderr",
          "text": [
            "/usr/local/lib/python3.11/dist-packages/sklearn/utils/validation.py:2739: UserWarning: X does not have valid feature names, but LinearRegression was fitted with feature names\n",
            "  warnings.warn(\n"
          ]
        }
      ],
      "source": [
        "# Import required libraries\n",
        "import numpy as np\n",
        "import pandas as pd\n",
        "from sklearn.linear_model import LinearRegression\n",
        "from sklearn.model_selection import train_test_split\n",
        "from sklearn.metrics import mean_squared_error\n",
        "\n",
        "# Sample dataset\n",
        "data = {\n",
        "    'Area (sqft)': [1000, 1500, 2000, 2500, 3000],\n",
        "    'Bedrooms': [2, 3, 4, 4, 5],\n",
        "    'Age (years)': [10, 5, 3, 2, 1],\n",
        "    'Price': [300000, 400000, 500000, 600000, 650000]\n",
        "}\n",
        "\n",
        "# Convert to DataFrame\n",
        "df = pd.DataFrame(data)\n",
        "\n",
        "# Features and target\n",
        "X = df[['Area (sqft)', 'Bedrooms', 'Age (years)']]\n",
        "y = df['Price']\n",
        "\n",
        "# Split into training and testing sets\n",
        "X_train, X_test, y_train, y_test = train_test_split(X, y, test_size=0.2, random_state=42)\n",
        "\n",
        "# Train the model\n",
        "model = LinearRegression()\n",
        "model.fit(X_train, y_train)\n",
        "\n",
        "# Predict on test data\n",
        "y_pred = model.predict(X_test)\n",
        "\n",
        "# Evaluate the model\n",
        "mse = mean_squared_error(y_test, y_pred)\n",
        "print(\"📉 Mean Squared Error:\", mse)\n",
        "\n",
        "# === Get User Input ===\n",
        "try:\n",
        "    area = float(input(\"Enter area in square feet: \"))\n",
        "    bedrooms = int(input(\"Enter number of bedrooms: \"))\n",
        "    age = float(input(\"Enter age of house (in years): \"))\n",
        "\n",
        "    new_house = np.array([[area, bedrooms, age]])\n",
        "    predicted_price = model.predict(new_house)\n",
        "    print(f\"🏠 Predicted Price: ${predicted_price[0]:,.2f}\")\n",
        "\n",
        "except ValueError:\n",
        "    print(\"⚠️ Please enter valid numeric values.\")\n"
      ]
    }
  ],
  "metadata": {
    "colab": {
      "provenance": [],
      "authorship_tag": "ABX9TyM24zsD0KOEkS0SiZjnoYbW",
      "include_colab_link": true
    },
    "kernelspec": {
      "display_name": "Python 3",
      "name": "python3"
    },
    "language_info": {
      "name": "python"
    }
  },
  "nbformat": 4,
  "nbformat_minor": 0
}