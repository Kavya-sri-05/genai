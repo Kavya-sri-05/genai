{
  "cells": [
    {
      "cell_type": "markdown",
      "metadata": {
        "id": "view-in-github",
        "colab_type": "text"
      },
      "source": [
        "<a href=\"https://colab.research.google.com/github/Kavya-sri-05/genai/blob/main/housingprice_using_sunthetic.ipynb\" target=\"_parent\"><img src=\"https://colab.research.google.com/assets/colab-badge.svg\" alt=\"Open In Colab\"/></a>"
      ]
    },
    {
      "cell_type": "code",
      "execution_count": 19,
      "metadata": {
        "colab": {
          "base_uri": "https://localhost:8080/"
        },
        "id": "rfnKFr42y-sF",
        "outputId": "d7780a7d-56ca-433b-b374-5ac3a01e2524"
      },
      "outputs": [
        {
          "output_type": "stream",
          "name": "stdout",
          "text": [
            "🔢 First few rows of data:\n",
            "    size_sqft  bedrooms neighborhood  age_years   price\n",
            "0       3774         1            B         34  757253\n",
            "1       1460         1            B         22  313686\n",
            "2       1894         1            A         28  381150\n",
            "3       1730         3            B         42  360860\n",
            "4       1695         1            B         10  369584\n",
            "\n",
            "📉 Mean Squared Error: 85595315.28\n",
            "\n",
            "Enter house size (sqft): 1500\n",
            "Enter number of bedrooms: 2\n",
            "Enter age of house (in years): 10\n",
            "Enter neighborhood (A, B, or C): A\n",
            "\n",
            "🏡 Estimated House Price: $338,255.47\n"
          ]
        }
      ],
      "source": [
        "# 📦 Import required libraries\n",
        "import pandas as pd\n",
        "import numpy as np\n",
        "from sklearn.linear_model import LinearRegression\n",
        "from sklearn.model_selection import train_test_split\n",
        "from sklearn.preprocessing import OneHotEncoder\n",
        "from sklearn.metrics import mean_squared_error\n",
        "\n",
        "# 🔢 Generate synthetic data\n",
        "np.random.seed(42)\n",
        "num_samples = 200\n",
        "\n",
        "data = {\n",
        "    'size_sqft': np.random.randint(600, 4000, num_samples),\n",
        "    'bedrooms': np.random.randint(1, 6, num_samples),\n",
        "    'neighborhood': np.random.choice(['A', 'B', 'C'], num_samples),\n",
        "    'age_years': np.random.randint(0, 50, num_samples),\n",
        "}\n",
        "\n",
        "# Synthetic price generation logic\n",
        "# Larger houses in better neighborhoods and fewer years old = higher price\n",
        "base_price = (\n",
        "    data['size_sqft'] * 200 +\n",
        "    data['bedrooms'] * 10000 +\n",
        "    [30000 if n == 'A' else 20000 if n == 'B' else 10000 for n in data['neighborhood']] -\n",
        "    data['age_years'] * 1000 +\n",
        "    np.random.normal(0, 10000, num_samples)  # Add noise\n",
        ")\n",
        "\n",
        "# Add target variable\n",
        "data['price'] = base_price.astype(int)\n",
        "\n",
        "# 🔍 Convert to DataFrame\n",
        "df = pd.DataFrame(data)\n",
        "print(\"🔢 First few rows of data:\\n\", df.head())\n",
        "\n",
        "# 🧼 One-hot encode categorical column\n",
        "df_encoded = pd.get_dummies(df, columns=['neighborhood'], drop_first=True)\n",
        "\n",
        "# ✂️ Split features and target\n",
        "X = df_encoded.drop('price', axis=1)\n",
        "y = df_encoded['price']\n",
        "\n",
        "# 🔀 Split into training and test data\n",
        "X_train, X_test, y_train, y_test = train_test_split(X, y, test_size=0.2, random_state=42)\n",
        "\n",
        "# 🧠 Train linear regression model\n",
        "model = LinearRegression()\n",
        "model.fit(X_train, y_train)\n",
        "\n",
        "# 🔮 Predict on test data\n",
        "y_pred = model.predict(X_test)\n",
        "\n",
        "# 📊 Evaluate\n",
        "mse = mean_squared_error(y_test, y_pred)\n",
        "print(f\"\\n📉 Mean Squared Error: {mse:.2f}\")\n",
        "\n",
        "# 🧾 Predict new house price from user input\n",
        "try:\n",
        "    size = float(input(\"\\nEnter house size (sqft): \"))\n",
        "    bedrooms = int(input(\"Enter number of bedrooms: \"))\n",
        "    age = int(input(\"Enter age of house (in years): \"))\n",
        "    neighborhood = input(\"Enter neighborhood (A, B, or C): \").upper()\n",
        "\n",
        "    # Prepare input row\n",
        "    user_data = {\n",
        "        'size_sqft': [size],\n",
        "        'bedrooms': [bedrooms],\n",
        "        'age_years': [age],\n",
        "        'neighborhood_B': [1 if neighborhood == 'B' else 0],\n",
        "        'neighborhood_C': [1 if neighborhood == 'C' else 0]\n",
        "    }\n",
        "\n",
        "    user_df = pd.DataFrame(user_data)\n",
        "    prediction = model.predict(user_df)[0]\n",
        "    print(f\"\\n🏡 Estimated House Price: ${prediction:,.2f}\")\n",
        "\n",
        "except Exception as e:\n",
        "    print(\"⚠️ Error with input:\", e)\n"
      ]
    }
  ],
  "metadata": {
    "colab": {
      "provenance": [],
      "authorship_tag": "ABX9TyMBq31i/SFNoArF4MYRM77E",
      "include_colab_link": true
    },
    "kernelspec": {
      "display_name": "Python 3",
      "name": "python3"
    },
    "language_info": {
      "name": "python"
    }
  },
  "nbformat": 4,
  "nbformat_minor": 0
}