{
  "nbformat": 4,
  "nbformat_minor": 0,
  "metadata": {
    "colab": {
      "provenance": [],
      "authorship_tag": "ABX9TyPpF567umNWnh+fButhDJgV",
      "include_colab_link": true
    },
    "kernelspec": {
      "name": "python3",
      "display_name": "Python 3"
    },
    "language_info": {
      "name": "python"
    }
  },
  "cells": [
    {
      "cell_type": "markdown",
      "metadata": {
        "id": "view-in-github",
        "colab_type": "text"
      },
      "source": [
        "<a href=\"https://colab.research.google.com/github/Kavya-sri-05/genai/blob/main/AI_TEXT_SUMMARISER.ipynb\" target=\"_parent\"><img src=\"https://colab.research.google.com/assets/colab-badge.svg\" alt=\"Open In Colab\"/></a>"
      ]
    },
    {
      "cell_type": "code",
      "source": [],
      "metadata": {
        "id": "UrrfaO9QqfBt"
      },
      "execution_count": null,
      "outputs": []
    },
    {
      "cell_type": "code",
      "execution_count": 9,
      "metadata": {
        "colab": {
          "base_uri": "https://localhost:8080/",
          "height": 632
        },
        "id": "TxiEBDarpbpv",
        "outputId": "1dd5716e-6e17-42f7-c4c9-c394b9dd55a8"
      },
      "outputs": [
        {
          "output_type": "stream",
          "name": "stderr",
          "text": [
            "Device set to use cpu\n"
          ]
        },
        {
          "output_type": "stream",
          "name": "stdout",
          "text": [
            "Colab notebook detected. To show errors in colab notebook, set debug=True in launch()\n",
            "* Running on public URL: https://9cb01285159eaf8374.gradio.live\n",
            "\n",
            "This share link expires in 1 week. For free permanent hosting and GPU upgrades, run `gradio deploy` from the terminal in the working directory to deploy to Hugging Face Spaces (https://huggingface.co/spaces)\n"
          ]
        },
        {
          "output_type": "display_data",
          "data": {
            "text/plain": [
              "<IPython.core.display.HTML object>"
            ],
            "text/html": [
              "<div><iframe src=\"https://9cb01285159eaf8374.gradio.live\" width=\"100%\" height=\"500\" allow=\"autoplay; camera; microphone; clipboard-read; clipboard-write;\" frameborder=\"0\" allowfullscreen></iframe></div>"
            ]
          },
          "metadata": {}
        },
        {
          "output_type": "execute_result",
          "data": {
            "text/plain": []
          },
          "metadata": {},
          "execution_count": 9
        }
      ],
      "source": [
        "import gradio as gr\n",
        "from transformers import pipeline\n",
        "\n",
        "# Load summarizer\n",
        "summarizer = pipeline(\"summarization\", model=\"facebook/bart-large-cnn\")\n",
        "\n",
        "def summarize_text(text):\n",
        "    if not text.strip():\n",
        "        return \"❌ Please enter article text.\"\n",
        "\n",
        "    chunks = [text[i:i+1024] for i in range(0, len(text), 1024)]\n",
        "    summary = \"\"\n",
        "    for chunk in chunks:\n",
        "        result = summarizer(chunk, max_length=130, min_length=30, do_sample=False)\n",
        "        summary += result[0]['summary_text'] + \" \"\n",
        "    return summary.strip()\n",
        "\n",
        "# Gradio UI for text summarization\n",
        "with gr.Blocks() as summarizer_text_ui:\n",
        "    gr.Markdown(\"## 📰 AI News Summarizer (Paste Article Text)\")\n",
        "    article_input = gr.Textbox(lines=10, label=\"Paste News Article Text\")\n",
        "    summarize_btn = gr.Button(\"Summarize\")\n",
        "    summary_output = gr.Textbox(label=\"Summary\")\n",
        "\n",
        "    summarize_btn.click(summarize_text, inputs=article_input, outputs=summary_output)\n",
        "\n",
        "summarizer_text_ui.launch(share=True)\n"
      ]
    },
    {
      "cell_type": "code",
      "source": [
        "!pip install gradio transformers newspaper3k openai langchain langchain-community lxml_html_clean --quiet\n"
      ],
      "metadata": {
        "id": "jFx8Uo8qq3nC"
      },
      "execution_count": 7,
      "outputs": []
    }
  ]
}