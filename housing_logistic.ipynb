{
  "cells": [
    {
      "cell_type": "markdown",
      "metadata": {
        "id": "view-in-github",
        "colab_type": "text"
      },
      "source": [
        "<a href=\"https://colab.research.google.com/github/Kavya-sri-05/genai/blob/main/housing_logistic.ipynb\" target=\"_parent\"><img src=\"https://colab.research.google.com/assets/colab-badge.svg\" alt=\"Open In Colab\"/></a>"
      ]
    },
    {
      "cell_type": "code",
      "execution_count": 18,
      "metadata": {
        "colab": {
          "base_uri": "https://localhost:8080/"
        },
        "id": "rfnKFr42y-sF",
        "outputId": "3ef8e21c-d9b1-4bdc-86bd-9ac211649f52"
      },
      "outputs": [
        {
          "output_type": "stream",
          "name": "stdout",
          "text": [
            "🔍 Confusion Matrix:\n",
            " [[2 0]\n",
            " [0 1]]\n",
            "\n",
            "📊 Classification Report:\n",
            "               precision    recall  f1-score   support\n",
            "\n",
            "           0       1.00      1.00      1.00         2\n",
            "           1       1.00      1.00      1.00         1\n",
            "\n",
            "    accuracy                           1.00         3\n",
            "   macro avg       1.00      1.00      1.00         3\n",
            "weighted avg       1.00      1.00      1.00         3\n",
            "\n",
            "\n",
            "Enter size of house in sqft: 1233\n",
            "Enter number of bedrooms: 12\n",
            "\n",
            "🏠 Prediction for your house: Expensive 🏙️\n"
          ]
        },
        {
          "output_type": "stream",
          "name": "stderr",
          "text": [
            "/usr/local/lib/python3.11/dist-packages/sklearn/utils/validation.py:2739: UserWarning: X does not have valid feature names, but StandardScaler was fitted with feature names\n",
            "  warnings.warn(\n"
          ]
        }
      ],
      "source": [
        "import pandas as pd\n",
        "from sklearn.model_selection import train_test_split\n",
        "from sklearn.linear_model import LogisticRegression\n",
        "from sklearn.preprocessing import StandardScaler\n",
        "from sklearn.metrics import classification_report, confusion_matrix\n",
        "import numpy as np\n",
        "\n",
        "# Sample data\n",
        "data = {\n",
        "    'size_sqft': [750, 800, 850, 1000, 1200, 1500, 1800, 2000, 2200, 2500],\n",
        "    'bedrooms': [1, 2, 2, 2, 3, 3, 4, 4, 5, 5],\n",
        "    'price': [150000, 160000, 170000, 200000, 250000, 300000, 400000, 450000, 500000, 600000]\n",
        "}\n",
        "\n",
        "# Load into DataFrame\n",
        "df = pd.DataFrame(data)\n",
        "\n",
        "# Convert price to binary label (1 = expensive, 0 = affordable)\n",
        "df['label'] = df['price'].apply(lambda x: 1 if x > 300000 else 0)\n",
        "\n",
        "# Features and target\n",
        "X = df[['size_sqft', 'bedrooms']]\n",
        "y = df['label']\n",
        "\n",
        "# Normalize features\n",
        "scaler = StandardScaler()\n",
        "X_scaled = scaler.fit_transform(X)\n",
        "\n",
        "# Split data\n",
        "X_train, X_test, y_train, y_test = train_test_split(X_scaled, y, test_size=0.3, random_state=42)\n",
        "\n",
        "# Train model\n",
        "model = LogisticRegression()\n",
        "model.fit(X_train, y_train)\n",
        "\n",
        "# Predict and evaluate\n",
        "y_pred = model.predict(X_test)\n",
        "print(\"🔍 Confusion Matrix:\\n\", confusion_matrix(y_test, y_pred))\n",
        "print(\"\\n📊 Classification Report:\\n\", classification_report(y_test, y_pred))\n",
        "\n",
        "# === 🚀 Predict using user input ===\n",
        "try:\n",
        "    size = float(input(\"\\nEnter size of house in sqft: \"))\n",
        "    bedrooms = int(input(\"Enter number of bedrooms: \"))\n",
        "\n",
        "    # Scale input\n",
        "    user_input_scaled = scaler.transform([[size, bedrooms]])\n",
        "\n",
        "    prediction = model.predict(user_input_scaled)\n",
        "    result = \"Expensive 🏙️\" if prediction[0] == 1 else \"Affordable 🏡\"\n",
        "    print(f\"\\n🏠 Prediction for your house: {result}\")\n",
        "\n",
        "except ValueError:\n",
        "    print(\"⚠️ Invalid input. Please enter numeric values.\")\n"
      ]
    }
  ],
  "metadata": {
    "colab": {
      "provenance": [],
      "authorship_tag": "ABX9TyMb3M5jdA942B076BABMipk",
      "include_colab_link": true
    },
    "kernelspec": {
      "display_name": "Python 3",
      "name": "python3"
    },
    "language_info": {
      "name": "python"
    }
  },
  "nbformat": 4,
  "nbformat_minor": 0
}